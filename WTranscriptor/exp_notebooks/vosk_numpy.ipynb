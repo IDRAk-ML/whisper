{
 "cells": [
  {
   "cell_type": "code",
   "execution_count": 3,
   "metadata": {},
   "outputs": [],
   "source": [
    "import numpy as np\n",
    "from vosk import Model, KaldiRecognizer"
   ]
  },
  {
   "cell_type": "code",
   "execution_count": null,
   "metadata": {},
   "outputs": [],
   "source": []
  },
  {
   "cell_type": "code",
   "execution_count": 4,
   "metadata": {},
   "outputs": [
    {
     "name": "stderr",
     "output_type": "stream",
     "text": [
      "LOG (VoskAPI:ReadDataFiles():model.cc:213) Decoding params beam=10 max-active=3000 lattice-beam=2\n",
      "LOG (VoskAPI:ReadDataFiles():model.cc:216) Silence phones 1:2:3:4:5:6:7:8:9:10\n",
      "LOG (VoskAPI:RemoveOrphanNodes():nnet-nnet.cc:948) Removed 0 orphan nodes.\n",
      "LOG (VoskAPI:RemoveOrphanComponents():nnet-nnet.cc:847) Removing 0 orphan components.\n",
      "LOG (VoskAPI:ReadDataFiles():model.cc:248) Loading i-vector extractor from vosk_small/vosk-model-small-en-us-0.15/ivector/final.ie\n",
      "LOG (VoskAPI:ComputeDerivedVars():ivector-extractor.cc:183) Computing derived variables for iVector extractor\n",
      "LOG (VoskAPI:ComputeDerivedVars():ivector-extractor.cc:204) Done.\n",
      "LOG (VoskAPI:ReadDataFiles():model.cc:282) Loading HCL and G from vosk_small/vosk-model-small-en-us-0.15/graph/HCLr.fst vosk_small/vosk-model-small-en-us-0.15/graph/Gr.fst\n",
      "LOG (VoskAPI:ReadDataFiles():model.cc:308) Loading winfo vosk_small/vosk-model-small-en-us-0.15/graph/phones/word_boundary.int\n"
     ]
    }
   ],
   "source": [
    "model_path = \"vosk_small/vosk-model-small-en-us-0.15\"\n",
    "model = Model(model_path)"
   ]
  },
  {
   "cell_type": "code",
   "execution_count": 18,
   "metadata": {},
   "outputs": [],
   "source": [
    "import soundfile as sf\n",
    "data, samplerate = sf.read(\"audios/amy.wav\")\n",
    "# assert samplerate == 16000\n"
   ]
  },
  {
   "cell_type": "code",
   "execution_count": 19,
   "metadata": {},
   "outputs": [],
   "source": [
    "rec = KaldiRecognizer(model, 16000)"
   ]
  },
  {
   "cell_type": "code",
   "execution_count": 20,
   "metadata": {},
   "outputs": [
    {
     "name": "stderr",
     "output_type": "stream",
     "text": [
      "WARNING (VoskAPI:MinimalToStateId():determinize-lattice-pruned.cc:530) New cost is less (check the difference is small) -8850.75, -8850.39\n",
      "WARNING (VoskAPI:MinimalToStateId():determinize-lattice-pruned.cc:530) New cost is less (check the difference is small) -8947.11, -8946.87\n",
      "WARNING (VoskAPI:MinimalToStateId():determinize-lattice-pruned.cc:530) New cost is less (check the difference is small) -8963.89, -8963.65\n",
      "WARNING (VoskAPI:MinimalToStateId():determinize-lattice-pruned.cc:530) New cost is less (check the difference is small) -8986.64, -8986.4\n",
      "WARNING (VoskAPI:MinimalToStateId():determinize-lattice-pruned.cc:530) New cost is less (check the difference is small) -9024.93, -9024.69\n",
      "WARNING (VoskAPI:MinimalToStateId():determinize-lattice-pruned.cc:530) New cost is less (check the difference is small) -9972.19, -9972.05\n",
      "WARNING (VoskAPI:MinimalToStateId():determinize-lattice-pruned.cc:530) New cost is less (check the difference is small) -9986.52, -9986.39\n",
      "WARNING (VoskAPI:MinimalToStateId():determinize-lattice-pruned.cc:530) New cost is less (check the difference is small) -10006.5, -10006.3\n",
      "WARNING (VoskAPI:MinimalToStateId():determinize-lattice-pruned.cc:530) New cost is less (check the difference is small) -10027.9, -10027.7\n",
      "WARNING (VoskAPI:MinimalToStateId():determinize-lattice-pruned.cc:530) New cost is less (check the difference is small) -10049.6, -10049.3\n",
      "WARNING (VoskAPI:MinimalToStateId():determinize-lattice-pruned.cc:530) New cost is less (check the difference is small) -10083.2, -10083\n",
      "WARNING (VoskAPI:MinimalToStateId():determinize-lattice-pruned.cc:530) New cost is less (check the difference is small) -10300.9, -10300.7\n"
     ]
    }
   ],
   "source": [
    "rec.AcceptWaveform(data.tobytes())\n",
    "result = rec.FinalResult()"
   ]
  },
  {
   "cell_type": "code",
   "execution_count": 21,
   "metadata": {},
   "outputs": [
    {
     "data": {
      "text/plain": [
       "'{\\n  \"text\" : \"\"\\n}'"
      ]
     },
     "execution_count": 21,
     "metadata": {},
     "output_type": "execute_result"
    }
   ],
   "source": [
    "result"
   ]
  },
  {
   "cell_type": "code",
   "execution_count": 16,
   "metadata": {},
   "outputs": [],
   "source": [
    "chunk_size = 4000\n",
    "text = \"\"\n",
    "import json\n",
    "for i in range(0, len(data), chunk_size):\n",
    "    chunk = data[i:i+chunk_size]\n",
    "    if rec.AcceptWaveform(chunk.tobytes()):\n",
    "        result_str = rec.Result()\n",
    "        result_dict = json.loads(result_str)\n",
    "        text += result_dict['text'] + ' '\n",
    " \n"
   ]
  }
 ],
 "metadata": {
  "kernelspec": {
   "display_name": "pytorch_latest",
   "language": "python",
   "name": "python3"
  },
  "language_info": {
   "codemirror_mode": {
    "name": "ipython",
    "version": 3
   },
   "file_extension": ".py",
   "mimetype": "text/x-python",
   "name": "python",
   "nbconvert_exporter": "python",
   "pygments_lexer": "ipython3",
   "version": "3.9.18"
  },
  "orig_nbformat": 4
 },
 "nbformat": 4,
 "nbformat_minor": 2
}
